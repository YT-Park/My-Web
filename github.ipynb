{
  "nbformat": 4,
  "nbformat_minor": 0,
  "metadata": {
    "colab": {
      "provenance": [],
      "mount_file_id": "1qGr-ZOtne_UuyxA6J2XSZmAmL0m932IX",
      "authorship_tag": "ABX9TyOn1RAFsM+tjKWgsAuwuMhz",
      "include_colab_link": true
    },
    "kernelspec": {
      "name": "python3",
      "display_name": "Python 3"
    },
    "language_info": {
      "name": "python"
    }
  },
  "cells": [
    {
      "cell_type": "markdown",
      "metadata": {
        "id": "view-in-github",
        "colab_type": "text"
      },
      "source": [
        "<a href=\"https://colab.research.google.com/github/YT-Park/My-Web/blob/master/github.ipynb\" target=\"_parent\"><img src=\"https://colab.research.google.com/assets/colab-badge.svg\" alt=\"Open In Colab\"/></a>"
      ]
    },
    {
      "cell_type": "code",
      "execution_count": 1,
      "metadata": {
        "colab": {
          "base_uri": "https://localhost:8080/"
        },
        "id": "3Ti7cSkrKvTg",
        "outputId": "09e727a1-748b-47e5-ef46-c8fee2800262"
      },
      "outputs": [
        {
          "output_type": "stream",
          "name": "stdout",
          "text": [
            "Cloning into 'attention-is-all-you-need-pytorch'...\n",
            "remote: Enumerating objects: 750, done.\u001b[K\n",
            "remote: Counting objects: 100% (3/3), done.\u001b[K\n",
            "remote: Compressing objects: 100% (3/3), done.\u001b[K\n",
            "remote: Total 750 (delta 0), reused 1 (delta 0), pack-reused 747\u001b[K\n",
            "Receiving objects: 100% (750/750), 166.21 KiB | 910.00 KiB/s, done.\n",
            "Resolving deltas: 100% (491/491), done.\n"
          ]
        }
      ],
      "source": [
        "!git clone https://github.com/jadore801120/attention-is-all-you-need-pytorch.git"
      ]
    },
    {
      "cell_type": "code",
      "source": [
        "!python /content/attention-is-all-you-need-pytorch/train.py"
      ],
      "metadata": {
        "colab": {
          "base_uri": "https://localhost:8080/"
        },
        "id": "iyWF-AwbKyUm",
        "outputId": "61e109ab-2ec8-43ad-a08c-ef360dedef94"
      },
      "execution_count": 2,
      "outputs": [
        {
          "output_type": "stream",
          "name": "stdout",
          "text": [
            "Traceback (most recent call last):\n",
            "  File \"/content/attention-is-all-you-need-pytorch/train.py\", line 8, in <module>\n",
            "    import dill as pickle\n",
            "ModuleNotFoundError: No module named 'dill'\n"
          ]
        }
      ]
    },
    {
      "cell_type": "code",
      "source": [],
      "metadata": {
        "id": "K7z9T8KDLKVj"
      },
      "execution_count": null,
      "outputs": []
    }
  ]
}